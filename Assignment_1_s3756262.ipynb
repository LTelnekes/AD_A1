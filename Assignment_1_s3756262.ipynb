{
 "cells": [
  {
   "cell_type": "markdown",
   "metadata": {
    "id": "rbgjVp6BXGCT"
   },
   "source": [
    "\n",
    "# **Assignment 1**\n",
    "\n",
    "\n",
    "## Task 1. Correlation\n",
    "We will use the data example from the textbook \"Statistical Analysis with The General Linear Model\" by Miller and Haden (2013), Chapter 11.\n",
    "\n",
    "As in Miller and Haden, we have five columns:\n",
    "\n",
    "-Participant (Participant),\n",
    "\n",
    "-Reading Ability (Abil),\n",
    "\n",
    "-Intelligence (IQ),\n",
    "\n",
    "-Number of minutes spent reading at home per week (Home),\n",
    "\n",
    "-Number of minutes spent watching TV per week (TV).\n",
    "\n",
    "\n",
    "For the task we will focus on the relationship between Reading Ability and IQ, but for further practice you can look at other relationships on your own."
   ]
  },
  {
   "cell_type": "markdown",
   "metadata": {
    "id": "Z4cXzKORYFaD"
   },
   "source": [
    "**Question 1**:\n",
    "\n",
    "a. Check whether the data is interval, ratio, or ordinal.\n",
    "\n",
    "b. Check whether there is a data point for each participant on both variables.\n",
    "\n",
    "c. Check whether the data is normally distributed in both variables.\n",
    "\n",
    "d. Create a scatter plot with Reading Ability being the x-axis and IQ, being the y-axis.\n",
    "\n",
    "e. Draw a correlation line on the scatter plot.\n",
    "\n",
    "\n",
    "**Instructions:**\n",
    "\n",
    "1. Load the necessary libraries and explain why you need them (\"#used for ...\").\n",
    "\n",
    "2. Read the MillerHadenData.csv file into a DataFrame and name it \"df_mh\"."
   ]
  },
  {
   "cell_type": "code",
   "execution_count": 5,
   "metadata": {
    "id": "140M8Z4qYn_G"
   },
   "outputs": [],
   "source": [
    "import pandas as pd # used for data wrangling\n",
    "import seaborn as sns # used for visualization\n",
    "import matplotlib  # used for various visualizations\n",
    "from matplotlib import pyplot as plt # used for plotting information\n",
    "import pylab # used for importing fuctions from other packages as a way of more convenientienly plotting charts\n",
    "import pingouin as pg # used for statistical tests and analysis\n",
    "\n",
    "# Read and name the file for further use \n",
    "df_mh = pd.read_csv('MillerHadenData.csv')"
   ]
  },
  {
   "cell_type": "code",
   "execution_count": 285,
   "metadata": {
    "id": "rwqidw5q2D1n"
   },
   "outputs": [
    {
     "data": {
      "text/html": [
       "<div>\n",
       "<style scoped>\n",
       "    .dataframe tbody tr th:only-of-type {\n",
       "        vertical-align: middle;\n",
       "    }\n",
       "\n",
       "    .dataframe tbody tr th {\n",
       "        vertical-align: top;\n",
       "    }\n",
       "\n",
       "    .dataframe thead th {\n",
       "        text-align: right;\n",
       "    }\n",
       "</style>\n",
       "<table border=\"1\" class=\"dataframe\">\n",
       "  <thead>\n",
       "    <tr style=\"text-align: right;\">\n",
       "      <th></th>\n",
       "      <th>Participant</th>\n",
       "      <th>Abil</th>\n",
       "      <th>IQ</th>\n",
       "      <th>Home</th>\n",
       "      <th>TV</th>\n",
       "      <th>Rank_Abil</th>\n",
       "      <th>Rank_Home</th>\n",
       "    </tr>\n",
       "  </thead>\n",
       "  <tbody>\n",
       "    <tr>\n",
       "      <th>0</th>\n",
       "      <td>1</td>\n",
       "      <td>61</td>\n",
       "      <td>107</td>\n",
       "      <td>144</td>\n",
       "      <td>487</td>\n",
       "      <td>high ability</td>\n",
       "      <td>frequent reading</td>\n",
       "    </tr>\n",
       "    <tr>\n",
       "      <th>1</th>\n",
       "      <td>2</td>\n",
       "      <td>56</td>\n",
       "      <td>109</td>\n",
       "      <td>123</td>\n",
       "      <td>608</td>\n",
       "      <td>high ability</td>\n",
       "      <td>infrequent reading</td>\n",
       "    </tr>\n",
       "    <tr>\n",
       "      <th>2</th>\n",
       "      <td>3</td>\n",
       "      <td>45</td>\n",
       "      <td>81</td>\n",
       "      <td>108</td>\n",
       "      <td>640</td>\n",
       "      <td>low ability</td>\n",
       "      <td>infrequent reading</td>\n",
       "    </tr>\n",
       "    <tr>\n",
       "      <th>3</th>\n",
       "      <td>4</td>\n",
       "      <td>66</td>\n",
       "      <td>100</td>\n",
       "      <td>155</td>\n",
       "      <td>493</td>\n",
       "      <td>high ability</td>\n",
       "      <td>frequent reading</td>\n",
       "    </tr>\n",
       "    <tr>\n",
       "      <th>4</th>\n",
       "      <td>5</td>\n",
       "      <td>49</td>\n",
       "      <td>92</td>\n",
       "      <td>103</td>\n",
       "      <td>636</td>\n",
       "      <td>low ability</td>\n",
       "      <td>infrequent reading</td>\n",
       "    </tr>\n",
       "  </tbody>\n",
       "</table>\n",
       "</div>"
      ],
      "text/plain": [
       "   Participant  Abil   IQ  Home   TV     Rank_Abil           Rank_Home\n",
       "0            1    61  107   144  487  high ability    frequent reading\n",
       "1            2    56  109   123  608  high ability  infrequent reading\n",
       "2            3    45   81   108  640   low ability  infrequent reading\n",
       "3            4    66  100   155  493  high ability    frequent reading\n",
       "4            5    49   92   103  636   low ability  infrequent reading"
      ]
     },
     "execution_count": 285,
     "metadata": {},
     "output_type": "execute_result"
    }
   ],
   "source": [
    "# Q1a (code):\n",
    "# Display first few rows of the dataframe\n",
    "df_mh.head()"
   ]
  },
  {
   "cell_type": "code",
   "execution_count": 286,
   "metadata": {},
   "outputs": [
    {
     "data": {
      "text/html": [
       "<div>\n",
       "<style scoped>\n",
       "    .dataframe tbody tr th:only-of-type {\n",
       "        vertical-align: middle;\n",
       "    }\n",
       "\n",
       "    .dataframe tbody tr th {\n",
       "        vertical-align: top;\n",
       "    }\n",
       "\n",
       "    .dataframe thead th {\n",
       "        text-align: right;\n",
       "    }\n",
       "</style>\n",
       "<table border=\"1\" class=\"dataframe\">\n",
       "  <thead>\n",
       "    <tr style=\"text-align: right;\">\n",
       "      <th></th>\n",
       "      <th>Participant</th>\n",
       "      <th>Abil</th>\n",
       "      <th>IQ</th>\n",
       "      <th>Home</th>\n",
       "      <th>TV</th>\n",
       "    </tr>\n",
       "  </thead>\n",
       "  <tbody>\n",
       "    <tr>\n",
       "      <th>count</th>\n",
       "      <td>25.000000</td>\n",
       "      <td>25.000000</td>\n",
       "      <td>25.000000</td>\n",
       "      <td>25.000000</td>\n",
       "      <td>25.000000</td>\n",
       "    </tr>\n",
       "    <tr>\n",
       "      <th>mean</th>\n",
       "      <td>13.000000</td>\n",
       "      <td>55.120000</td>\n",
       "      <td>100.040000</td>\n",
       "      <td>124.000000</td>\n",
       "      <td>599.920000</td>\n",
       "    </tr>\n",
       "    <tr>\n",
       "      <th>std</th>\n",
       "      <td>7.359801</td>\n",
       "      <td>6.084954</td>\n",
       "      <td>9.043782</td>\n",
       "      <td>21.039645</td>\n",
       "      <td>95.056965</td>\n",
       "    </tr>\n",
       "    <tr>\n",
       "      <th>min</th>\n",
       "      <td>1.000000</td>\n",
       "      <td>45.000000</td>\n",
       "      <td>81.000000</td>\n",
       "      <td>87.000000</td>\n",
       "      <td>407.000000</td>\n",
       "    </tr>\n",
       "    <tr>\n",
       "      <th>25%</th>\n",
       "      <td>7.000000</td>\n",
       "      <td>50.000000</td>\n",
       "      <td>95.000000</td>\n",
       "      <td>108.000000</td>\n",
       "      <td>523.000000</td>\n",
       "    </tr>\n",
       "    <tr>\n",
       "      <th>50%</th>\n",
       "      <td>13.000000</td>\n",
       "      <td>54.000000</td>\n",
       "      <td>100.000000</td>\n",
       "      <td>123.000000</td>\n",
       "      <td>636.000000</td>\n",
       "    </tr>\n",
       "    <tr>\n",
       "      <th>75%</th>\n",
       "      <td>19.000000</td>\n",
       "      <td>61.000000</td>\n",
       "      <td>104.000000</td>\n",
       "      <td>141.000000</td>\n",
       "      <td>673.000000</td>\n",
       "    </tr>\n",
       "    <tr>\n",
       "      <th>max</th>\n",
       "      <td>25.000000</td>\n",
       "      <td>67.000000</td>\n",
       "      <td>118.000000</td>\n",
       "      <td>161.000000</td>\n",
       "      <td>787.000000</td>\n",
       "    </tr>\n",
       "  </tbody>\n",
       "</table>\n",
       "</div>"
      ],
      "text/plain": [
       "       Participant       Abil          IQ        Home          TV\n",
       "count    25.000000  25.000000   25.000000   25.000000   25.000000\n",
       "mean     13.000000  55.120000  100.040000  124.000000  599.920000\n",
       "std       7.359801   6.084954    9.043782   21.039645   95.056965\n",
       "min       1.000000  45.000000   81.000000   87.000000  407.000000\n",
       "25%       7.000000  50.000000   95.000000  108.000000  523.000000\n",
       "50%      13.000000  54.000000  100.000000  123.000000  636.000000\n",
       "75%      19.000000  61.000000  104.000000  141.000000  673.000000\n",
       "max      25.000000  67.000000  118.000000  161.000000  787.000000"
      ]
     },
     "execution_count": 286,
     "metadata": {},
     "output_type": "execute_result"
    }
   ],
   "source": [
    "# Check data types and information\n",
    "# I will use .describe() to get an overview of the dataset \n",
    "df_mh.describe()"
   ]
  },
  {
   "cell_type": "code",
   "execution_count": 287,
   "metadata": {},
   "outputs": [
    {
     "name": "stdout",
     "output_type": "stream",
     "text": [
      "<class 'pandas.core.frame.DataFrame'>\n",
      "RangeIndex: 25 entries, 0 to 24\n",
      "Data columns (total 7 columns):\n",
      " #   Column       Non-Null Count  Dtype \n",
      "---  ------       --------------  ----- \n",
      " 0   Participant  25 non-null     int64 \n",
      " 1   Abil         25 non-null     int64 \n",
      " 2   IQ           25 non-null     int64 \n",
      " 3   Home         25 non-null     int64 \n",
      " 4   TV           25 non-null     int64 \n",
      " 5   Rank_Abil    25 non-null     object\n",
      " 6   Rank_Home    25 non-null     object\n",
      "dtypes: int64(5), object(2)\n",
      "memory usage: 1.5+ KB\n"
     ]
    }
   ],
   "source": [
    "# To get a clear overview of the different datatypes in the dataframe, we can also use .info()\n",
    "df_mh.info()"
   ]
  },
  {
   "cell_type": "markdown",
   "metadata": {},
   "source": [
    " <font color=purple> The information displayed in the different graphs above, reveals that the data (Abil, IQ, Home, TV) we are working with is **ratio data**. The data has a well-defined order and scale and there is a zero point (500 minutes of watching TV is more than 499 minutes of watching TV, while it is also possible that the participants has watched 0 minutes of TV, which is equal to not having watched TV at all. "
   ]
  },
  {
   "cell_type": "code",
   "execution_count": 288,
   "metadata": {
    "id": "Edd9mYgi2Jar"
   },
   "outputs": [
    {
     "name": "stdout",
     "output_type": "stream",
     "text": [
      "There are no missing values for IQ & Reading Ability\n",
      "IQ      0\n",
      "Abil    0\n",
      "dtype: int64\n"
     ]
    }
   ],
   "source": [
    "# Q1b (code):\n",
    "# Check for missing values\n",
    "# The .info in the cell above already revealed that there are no missing values in any of our data frame's columns\n",
    "\n",
    "# We can also use .isnull() combined with .sum() to give us an overview of how many times a missing value occurs in each column\n",
    "# https://pandas.pydata.org/pandas-docs/stable/reference/api/pandas.isnull.html \n",
    "\n",
    "# As we are interested in the relationship between Reading Ability and IQ, we can only check these variables for the missing values\n",
    "missing_values = df_mh[['IQ', 'Abil']].isnull().sum()\n",
    "\n",
    "# Check whether there is a data point for each participant on both variables\n",
    "\n",
    "# We can use the earlier defined 'missing_values' to check if there are any missing values \n",
    "# This conditional statement checks if there are missing values in either 'IQ' or 'Abil' \n",
    "# If this returns 'False', it means there are no missing values\n",
    "# If this returns 'True', at least one line has missing values in either 'IQ' or 'Abil'\n",
    "if not missing_values.any():\n",
    "    print(\"There are no missing values for IQ & Reading Ability\")\n",
    "else:\n",
    "    print(\"There are missing values for IQ & Reading Ability\")\n",
    "    \n",
    "# We can also print the assigned variable 'missing_values' to see the division of missing values\n",
    "# This will also show us that there are no missing values in both columns, so there will be a data point for each participant\n",
    "\n",
    "print(missing_values)"
   ]
  },
  {
   "cell_type": "code",
   "execution_count": 289,
   "metadata": {
    "id": "3ALe0fjr2K5h"
   },
   "outputs": [
    {
     "data": {
      "text/html": [
       "<div>\n",
       "<style scoped>\n",
       "    .dataframe tbody tr th:only-of-type {\n",
       "        vertical-align: middle;\n",
       "    }\n",
       "\n",
       "    .dataframe tbody tr th {\n",
       "        vertical-align: top;\n",
       "    }\n",
       "\n",
       "    .dataframe thead th {\n",
       "        text-align: right;\n",
       "    }\n",
       "</style>\n",
       "<table border=\"1\" class=\"dataframe\">\n",
       "  <thead>\n",
       "    <tr style=\"text-align: right;\">\n",
       "      <th></th>\n",
       "      <th>W</th>\n",
       "      <th>pval</th>\n",
       "      <th>normal</th>\n",
       "    </tr>\n",
       "  </thead>\n",
       "  <tbody>\n",
       "    <tr>\n",
       "      <th>IQ</th>\n",
       "      <td>0.963604</td>\n",
       "      <td>0.490811</td>\n",
       "      <td>True</td>\n",
       "    </tr>\n",
       "    <tr>\n",
       "      <th>Abil</th>\n",
       "      <td>0.948795</td>\n",
       "      <td>0.235491</td>\n",
       "      <td>True</td>\n",
       "    </tr>\n",
       "  </tbody>\n",
       "</table>\n",
       "</div>"
      ],
      "text/plain": [
       "             W      pval  normal\n",
       "IQ    0.963604  0.490811    True\n",
       "Abil  0.948795  0.235491    True"
      ]
     },
     "execution_count": 289,
     "metadata": {},
     "output_type": "execute_result"
    },
    {
     "data": {
      "image/png": "[encoded data removed]",
      "text/plain": [
       "<Figure size 1000x400 with 2 Axes>"
      ]
     },
     "metadata": {},
     "output_type": "display_data"
    }
   ],
   "source": [
    "# Q1c (code):\n",
    "# Check data distribution\n",
    "\n",
    "# We can visualize the data distribution to see if 'IQ' and 'Abil' are normally distributed by creating a histogram for both columns\n",
    "# We can choose the figure size, as well as the color of the bars for readability or consistency\n",
    "df_mh[['IQ', 'Abil']].hist(figsize=(10, 4), color='purple')\n",
    "\n",
    "# We can also use Pingouin's normality function to perform a test on 'IQ' and 'Abil' to check if either are normally distributed\n",
    "# This function performs the Shapiro-Wilk test for normality by default\n",
    "pg.normality(df_mh[['IQ', 'Abil']])"
   ]
  },
  {
   "cell_type": "code",
   "execution_count": 290,
   "metadata": {
    "id": "xaQ300fY2MPe"
   },
   "outputs": [
    {
     "data": {
      "image/png": "[encoded data removed]",
      "text/plain": [
       "<Figure size 640x480 with 1 Axes>"
      ]
     },
     "metadata": {},
     "output_type": "display_data"
    }
   ],
   "source": [
    "# Q1d (code):\n",
    "\n",
    "# We will first store the data we need in easily usable variables for creating the scatter plot\n",
    "# This is a personal preference, we could have also written the necessary information directly into the scatter plot code\n",
    "IQ = df_mh['IQ']\n",
    "Abil = df_mh['Abil']\n",
    "\n",
    "# Scatter plot\n",
    "plt.scatter(Abil, IQ, c='purple')\n",
    "plt.xlabel('Reading Ability (Abil)') \n",
    "plt.ylabel('Intelligence (IQ)')\n",
    "plt.show()"
   ]
  },
  {
   "cell_type": "code",
   "execution_count": 291,
   "metadata": {
    "id": "Zpkwqc382N06"
   },
   "outputs": [
    {
     "data": {
      "image/png": "[encoded data removed]",
      "text/plain": [
       "<Figure size 640x480 with 1 Axes>"
      ]
     },
     "metadata": {},
     "output_type": "display_data"
    }
   ],
   "source": [
    "# Q1e (code):\n",
    "# Draw a correlation line using regplot() from the seaborn package\n",
    "# I have decided to change the color of the correlation line so that it differs from the scatter plot for a clearer visualization\n",
    "# https://stackoverflow.com/questions/48145924/different-colors-for-points-and-line-in-seaborn-regplot\n",
    "plot_corr_sns = sns.regplot(x='Abil', y='IQ', data=df_mh, scatter_kws={'color': 'purple'}, line_kws={\"color\": \"cyan\"})"
   ]
  },
  {
   "cell_type": "markdown",
   "metadata": {
    "id": "tKtW2diqZq1S"
   },
   "source": [
    "**Question 2**:\n",
    "\n",
    "a. Which correlation coefficient test can we use, Pearson or Spearman? Briefly explian why based on the results of Question 1.\n",
    "\n",
    "b. Conduct a correlation coefficient test.\n",
    "\n",
    "c. Interpret the result (direction and strength of the association between the two varibles)"
   ]
  },
  {
   "cell_type": "markdown",
   "metadata": {
    "id": "t5GRVxHwaKIS"
   },
   "source": [
    " <font color=purple> <ins>Q1a:</ins>\n",
    "    \n",
    " <font color=purple> Pearson's coefficient test is a parametric measure in which the data assumption is that the data are normally distributed. \n",
    "    \n",
    " <font color=purple>Spearman's coefficient test is non-parametric. Its data assumptions are ordinal or continuous data. \n",
    "\n",
    " <font color=purple>Following earlier visualizations and tests of the data, we can conclude that our data is normally distributed. The Shapiro-Wilk test returned the normal distribution to be true, whilst the shape of the histograms also implies a normal distribution. Therefore, we pick **Pearson's correlation coefficient test**. "
   ]
  },
  {
   "cell_type": "code",
   "execution_count": 292,
   "metadata": {
    "id": "LTSp6xMFaKgf"
   },
   "outputs": [
    {
     "data": {
      "text/html": [
       "<div>\n",
       "<style scoped>\n",
       "    .dataframe tbody tr th:only-of-type {\n",
       "        vertical-align: middle;\n",
       "    }\n",
       "\n",
       "    .dataframe tbody tr th {\n",
       "        vertical-align: top;\n",
       "    }\n",
       "\n",
       "    .dataframe thead th {\n",
       "        text-align: right;\n",
       "    }\n",
       "</style>\n",
       "<table border=\"1\" class=\"dataframe\">\n",
       "  <thead>\n",
       "    <tr style=\"text-align: right;\">\n",
       "      <th></th>\n",
       "      <th>n</th>\n",
       "      <th>r</th>\n",
       "      <th>CI95%</th>\n",
       "      <th>p-val</th>\n",
       "      <th>BF10</th>\n",
       "      <th>power</th>\n",
       "    </tr>\n",
       "  </thead>\n",
       "  <tbody>\n",
       "    <tr>\n",
       "      <th>pearson</th>\n",
       "      <td>25</td>\n",
       "      <td>0.45117</td>\n",
       "      <td>[0.07, 0.72]</td>\n",
       "      <td>0.023593</td>\n",
       "      <td>2.804</td>\n",
       "      <td>0.640299</td>\n",
       "    </tr>\n",
       "  </tbody>\n",
       "</table>\n",
       "</div>"
      ],
      "text/plain": [
       "          n        r         CI95%     p-val   BF10     power\n",
       "pearson  25  0.45117  [0.07, 0.72]  0.023593  2.804  0.640299"
      ]
     },
     "execution_count": 292,
     "metadata": {},
     "output_type": "execute_result"
    }
   ],
   "source": [
    "# Q2b (code):\n",
    "# Conduct a correlation coefficient test.\n",
    "# We can conduct this test using Pingouin.corr() setting the method to Pearson\n",
    "pg.corr(Abil, IQ, method='pearson')"
   ]
  },
  {
   "cell_type": "markdown",
   "metadata": {
    "id": "m_3aCSG7ylFJ"
   },
   "source": [
    "<font color=purple> <ins>Q2c:</ins>\n",
    " \n",
    "\n",
    "<font color=purple> **Direction:** the direction of the correlation line implies a positive correlation; as one variable increases the other increases as well. Furthermore, the Pearson correlation coefficient test returned 0.45117, a positive value for r (the correlation coefficient), which also implies a positive correlation. \n",
    "\n",
    "<font color=purple> **Strength:** the correlation coefficient (r) is always between -1 and 1, where a perfect positive linear relationship is represented by a value of 1, a perfect negative linear relationship by a value of -1, and no linear relationship by a value of 0. In our test, the correlation coefficient is 0.45117, which indicates a moderate  strength of correlation between IQ and Reading Ability. "
   ]
  },
  {
   "cell_type": "markdown",
   "metadata": {
    "id": "mogdaz8P27oU"
   },
   "source": [
    "## Task 2. Chi-square Test\n",
    "We will continue to use the data example from Task 1.\n",
    "\n",
    "We want to explore whether there are significant differences in the amount of time spent reading at home per week (Home) among people with different reading abilities (Reading Ability). Therefore, we will divide the reading ability of all participants into two groups. The first group is those with low reading ability (Reading Ability at or below the rounded average), and the second group is those with high reading ability (Reading Ability above the rounded average). We will store this grouping in a new column named \"Rank_Abil\".\n",
    "\n",
    "\n",
    "Similarly, the reading time is divided into two different scenarios: the first scenario is infrequent reading (Home at or below the rounded average), and the other is frequent reading (Reading Ability above the rounded average). We will store this grouping in a new column named \"Rank_Home\".\n",
    "\n",
    "\n",
    "Then, construct a Contingency Matrix and perform a Chi-square test.\n",
    "\n",
    "**Question 3**:\n",
    "\n",
    "a. Please state the null hypothesis (H0) and alternative hypothesis (H1) for this Chi-square test.\n",
    "\n",
    "b. Based on the task description, add new columns “Rank_Abil” and \"Rank_Home\" to the dataframe df_mh.\n",
    "\n",
    "c. Construct a Contingency Matrix.\n",
    "\n",
    "d. Perform a Chi-square test.\n",
    "\n",
    "e. Interpret the results of the Chi-square test (answer in text)."
   ]
  },
  {
   "cell_type": "markdown",
   "metadata": {},
   "source": [
    "<font color=purple> <ins>Q3a:</ins>\n",
    "    \n",
    "<font color=purple>**H1:** The amount of time spent reading at home per week has a positive influence on reading ability. \n",
    "    \n",
    "<font color=purple>**H0:** There is *no* relationship between reading ability and the amount of time spent reading at home per week."
   ]
  },
  {
   "cell_type": "code",
   "execution_count": 293,
   "metadata": {
    "id": "nlO-hmq2-V2Z"
   },
   "outputs": [
    {
     "data": {
      "text/html": [
       "<div>\n",
       "<style scoped>\n",
       "    .dataframe tbody tr th:only-of-type {\n",
       "        vertical-align: middle;\n",
       "    }\n",
       "\n",
       "    .dataframe tbody tr th {\n",
       "        vertical-align: top;\n",
       "    }\n",
       "\n",
       "    .dataframe thead th {\n",
       "        text-align: right;\n",
       "    }\n",
       "</style>\n",
       "<table border=\"1\" class=\"dataframe\">\n",
       "  <thead>\n",
       "    <tr style=\"text-align: right;\">\n",
       "      <th></th>\n",
       "      <th>Participant</th>\n",
       "      <th>Abil</th>\n",
       "      <th>IQ</th>\n",
       "      <th>Home</th>\n",
       "      <th>TV</th>\n",
       "      <th>Rank_Abil</th>\n",
       "      <th>Rank_Home</th>\n",
       "    </tr>\n",
       "  </thead>\n",
       "  <tbody>\n",
       "    <tr>\n",
       "      <th>0</th>\n",
       "      <td>1</td>\n",
       "      <td>61</td>\n",
       "      <td>107</td>\n",
       "      <td>144</td>\n",
       "      <td>487</td>\n",
       "      <td>high ability</td>\n",
       "      <td>frequent reading</td>\n",
       "    </tr>\n",
       "    <tr>\n",
       "      <th>1</th>\n",
       "      <td>2</td>\n",
       "      <td>56</td>\n",
       "      <td>109</td>\n",
       "      <td>123</td>\n",
       "      <td>608</td>\n",
       "      <td>high ability</td>\n",
       "      <td>infrequent reading</td>\n",
       "    </tr>\n",
       "    <tr>\n",
       "      <th>2</th>\n",
       "      <td>3</td>\n",
       "      <td>45</td>\n",
       "      <td>81</td>\n",
       "      <td>108</td>\n",
       "      <td>640</td>\n",
       "      <td>low ability</td>\n",
       "      <td>infrequent reading</td>\n",
       "    </tr>\n",
       "    <tr>\n",
       "      <th>3</th>\n",
       "      <td>4</td>\n",
       "      <td>66</td>\n",
       "      <td>100</td>\n",
       "      <td>155</td>\n",
       "      <td>493</td>\n",
       "      <td>high ability</td>\n",
       "      <td>frequent reading</td>\n",
       "    </tr>\n",
       "    <tr>\n",
       "      <th>4</th>\n",
       "      <td>5</td>\n",
       "      <td>49</td>\n",
       "      <td>92</td>\n",
       "      <td>103</td>\n",
       "      <td>636</td>\n",
       "      <td>low ability</td>\n",
       "      <td>infrequent reading</td>\n",
       "    </tr>\n",
       "  </tbody>\n",
       "</table>\n",
       "</div>"
      ],
      "text/plain": [
       "   Participant  Abil   IQ  Home   TV     Rank_Abil           Rank_Home\n",
       "0            1    61  107   144  487  high ability    frequent reading\n",
       "1            2    56  109   123  608  high ability  infrequent reading\n",
       "2            3    45   81   108  640   low ability  infrequent reading\n",
       "3            4    66  100   155  493  high ability    frequent reading\n",
       "4            5    49   92   103  636   low ability  infrequent reading"
      ]
     },
     "execution_count": 293,
     "metadata": {},
     "output_type": "execute_result"
    }
   ],
   "source": [
    "# Q3b (code):\n",
    "# Import necessary libraries\n",
    "import pandas as pd  ##used for data analysis and manipulation\n",
    "from scipy.stats import chi2_contingency ##used for performing the Chi-square test\n",
    "\n",
    "# Define the rounded average for Reading Ability and Home\n",
    "# https://www.geeksforgeeks.org/round-function-python/ \n",
    "rounded_av_abil = round(df_mh['Abil'].mean())\n",
    "rounded_av_home = round(df_mh['Home'].mean())\n",
    "\n",
    "# Create the Rank_Abil column\n",
    "# We will first create an empty list to store our results in \n",
    "Rank_Abil = []\n",
    "\n",
    "# We will use a for-loop to loop over the values in 'Abil'. \n",
    "# If the value is at or below the rounded average of Reading Ability, the empty list will be appended with the 'low ability' score\n",
    "# Else, a 'high ability' will be appended (scores above the rounded average)\n",
    "for value in df_mh['Abil']:\n",
    "    if value <= rounded_av_abil:\n",
    "        Rank_Abil.append('low ability')\n",
    "    else:\n",
    "        Rank_Abil.append('high ability')\n",
    "\n",
    "# Create the Rank_Home column\n",
    "# We will, again, first create an empty list to store our results in \n",
    "Rank_Home = []\n",
    "\n",
    "# We will take the same steps here, assigning an 'infrequent reading' to scores at or below the rounded average and frequent to the others (above the rounded average)\n",
    "for value in df_mh['Home']:\n",
    "    if value <= rounded_av_home:\n",
    "        Rank_Home.append('infrequent reading')\n",
    "    else:\n",
    "        Rank_Home.append('frequent reading')\n",
    "        \n",
    "# Add 'Rank_Abil' and 'Rank_Home' to the dataframe df_mh\n",
    "df_mh['Rank_Abil'] = Rank_Abil\n",
    "df_mh['Rank_Home'] = Rank_Home\n",
    "\n",
    "# Display the first few rows of the data frame to see if the new columns have been added\n",
    "df_mh.head()"
   ]
  },
  {
   "cell_type": "code",
   "execution_count": 294,
   "metadata": {
    "id": "jjtp4cm4-Y36"
   },
   "outputs": [
    {
     "data": {
      "text/html": [
       "<div>\n",
       "<style scoped>\n",
       "    .dataframe tbody tr th:only-of-type {\n",
       "        vertical-align: middle;\n",
       "    }\n",
       "\n",
       "    .dataframe tbody tr th {\n",
       "        vertical-align: top;\n",
       "    }\n",
       "\n",
       "    .dataframe thead th {\n",
       "        text-align: right;\n",
       "    }\n",
       "</style>\n",
       "<table border=\"1\" class=\"dataframe\">\n",
       "  <thead>\n",
       "    <tr style=\"text-align: right;\">\n",
       "      <th>Rank_Home</th>\n",
       "      <th>frequent reading</th>\n",
       "      <th>infrequent reading</th>\n",
       "    </tr>\n",
       "    <tr>\n",
       "      <th>Rank_Abil</th>\n",
       "      <th></th>\n",
       "      <th></th>\n",
       "    </tr>\n",
       "  </thead>\n",
       "  <tbody>\n",
       "    <tr>\n",
       "      <th>high ability</th>\n",
       "      <td>8</td>\n",
       "      <td>2</td>\n",
       "    </tr>\n",
       "    <tr>\n",
       "      <th>low ability</th>\n",
       "      <td>3</td>\n",
       "      <td>12</td>\n",
       "    </tr>\n",
       "  </tbody>\n",
       "</table>\n",
       "</div>"
      ],
      "text/plain": [
       "Rank_Home     frequent reading  infrequent reading\n",
       "Rank_Abil                                         \n",
       "high ability                 8                   2\n",
       "low ability                  3                  12"
      ]
     },
     "execution_count": 294,
     "metadata": {},
     "output_type": "execute_result"
    }
   ],
   "source": [
    "# Q3c (code):\n",
    "# Construct Contingency Matrix\n",
    "# We will create a contingency table by using Pandas' cross-tabulate function\n",
    "# https://www.statology.org/contingency-table-python/\n",
    "# This function counts the occurrences of each combination of values in the 'Rank_Abil' and 'Rank_Home' columns to get our Contingency Matrix\n",
    "contingency_matrix = pd.crosstab(df_mh['Rank_Abil'], df_mh['Rank_Home'])\n",
    "\n",
    "# Display the Matrix\n",
    "contingency_matrix"
   ]
  },
  {
   "cell_type": "code",
   "execution_count": 295,
   "metadata": {
    "id": "gyDS8hq2-bmx"
   },
   "outputs": [
    {
     "name": "stdout",
     "output_type": "stream",
     "text": [
      "6.500270562770561 0.010785807794066234\n",
      "These are the expected frequencies\n",
      "[[4.4 5.6]\n",
      " [6.6 8.4]]\n",
      "The observed differences are statiscally significant - H0 is rejected\n"
     ]
    }
   ],
   "source": [
    "# Q3d (code):\n",
    "\n",
    "# Perform the Chi-square test from the SciPy imported software, fill in the contingency_matrix in the chi2_contingency function\n",
    "# This tests the independence of variables in a contingency matrix\n",
    "chi2, p_value, degree_of_freedom, expected_frequencies = chi2_contingency(contingency_matrix)\n",
    "print(chi2, p_value)\n",
    "print('These are the expected frequencies')\n",
    "print(expected_frequencies)\n",
    "\n",
    "# Translate the results of our Chi-square test to evaluate our hypothesis \n",
    "if p_value < 0.05:\n",
    "    print(\"The observed differences are statiscally significant - H0 is rejected\")\n",
    "else:\n",
    "    print(\"The observed differences are not statiscally significant - H1 is rejected\")"
   ]
  },
  {
   "cell_type": "markdown",
   "metadata": {
    "id": "fj0gW0pS-dN5"
   },
   "source": [
    "<font color=purple> <ins>Q3e</ins>\n",
    "\n",
    "<font color=purple> Looking at the Chi-square test performed in the cell above, we can conclude that **our null hypothesis (H0) can be rejected**. We can conclude this because the p-value of 0.010785807794066234 is lower than 0.05.\n",
    "\n",
    "<font color=purple> This means that, according to our test, **there is a statistical significance in the relationship between reading ability and the amount of time spent reading at home per week**."
   ]
  },
  {
   "cell_type": "markdown",
   "metadata": {
    "id": "FgYRxqqpaUIk"
   },
   "source": [
    "## Task 3. Two-sample t-test\n",
    "As we discussed on Week 3, Two-sample designs are very useful when we want to know whether there is a difference between groups on a particular variable.\n",
    "\n",
    "In this assignment, you will be guided to replicate the Experiment 4 (p. 887-888) from the paper below, focusing on understanding the data through descriptive statistics, visualizing distributions, testing assumptions (normality and variance homogeneity), and finally performing the independent t-test.\n",
    "\n",
    "Schroeder, J. and Epley, N. (2015). The sound of intellect: Speech reveals a thoughtful mind, increasing a job candidate's appeal. Psychological Science, 26, 277--891.\n",
    "\n",
    "\n",
    "As we explained during Week 3 lecture, there are different types of two-sample designs depending on whether or not the two groups are independent (e.g., different participants in different conditions) or not (e.g., same participants in different conditions). In this course we focus on independent samples, which typically means that the observations in the two groups are unrelated - usually meaning different people. But in real practice you will need to go through similar procedures to determine which is the proper statistical test to use.\n",
    "\n",
    "\n",
    "\n",
    "\n",
    "### Background of data: Speech as indicator of intellect\n",
    "To recap on Experiment 4, 39 professional recruiters from Fortune 500 companies evaluated job pitches of M.B.A. candidates (Masters in Business Administration) from the University of Chicago Booth School of Business. The methods and results appear on pages 887--889 of the article if you want to look at them specifically for more details."
   ]
  },
  {
   "cell_type": "markdown",
   "metadata": {
    "id": "vIc57Glgn5Bb"
   },
   "source": [
    "### Step 1: Analyze the demographics of evaluators from the provided dataset\n",
    "\n",
    "**Instructions:**\n",
    "\n",
    "1. Load the necessary libraries (pandas, scipy, numpy, matplotlib.pyplot, seaborn) and explain why you need them (\"#used for ...\").\n",
    "\n",
    "2. Read the evaluators.csv file into a DataFrame.\n",
    "\n",
    "3. Calculate the mean and standard deviation of the age of the evaluators, handling missing values appropriately.\n",
    "\n",
    "4. Count how many male and female evaluators were in the study.\n",
    "\n",
    "**Question 4:**\n",
    "\n",
    "a. What was the mean age of the evaluators?\n",
    "What was the standard deviation of the age of the evaluators?\n",
    "\n",
    "b. How many participants were female and how many participants were male?\n"
   ]
  },
  {
   "cell_type": "code",
   "execution_count": 129,
   "metadata": {
    "id": "RgnTye-yojyH"
   },
   "outputs": [
    {
     "data": {
      "text/html": [
       "<div>\n",
       "<style scoped>\n",
       "    .dataframe tbody tr th:only-of-type {\n",
       "        vertical-align: middle;\n",
       "    }\n",
       "\n",
       "    .dataframe tbody tr th {\n",
       "        vertical-align: top;\n",
       "    }\n",
       "\n",
       "    .dataframe thead th {\n",
       "        text-align: right;\n",
       "    }\n",
       "</style>\n",
       "<table border=\"1\" class=\"dataframe\">\n",
       "  <thead>\n",
       "    <tr style=\"text-align: right;\">\n",
       "      <th></th>\n",
       "      <th>eval_id</th>\n",
       "      <th>condition</th>\n",
       "      <th>age</th>\n",
       "      <th>sex</th>\n",
       "    </tr>\n",
       "  </thead>\n",
       "  <tbody>\n",
       "    <tr>\n",
       "      <th>0</th>\n",
       "      <td>1</td>\n",
       "      <td>listened</td>\n",
       "      <td>29.0</td>\n",
       "      <td>2.0</td>\n",
       "    </tr>\n",
       "    <tr>\n",
       "      <th>1</th>\n",
       "      <td>2</td>\n",
       "      <td>listened</td>\n",
       "      <td>27.0</td>\n",
       "      <td>2.0</td>\n",
       "    </tr>\n",
       "    <tr>\n",
       "      <th>2</th>\n",
       "      <td>3</td>\n",
       "      <td>listened</td>\n",
       "      <td>27.0</td>\n",
       "      <td>2.0</td>\n",
       "    </tr>\n",
       "    <tr>\n",
       "      <th>3</th>\n",
       "      <td>4</td>\n",
       "      <td>read</td>\n",
       "      <td>40.0</td>\n",
       "      <td>2.0</td>\n",
       "    </tr>\n",
       "    <tr>\n",
       "      <th>4</th>\n",
       "      <td>5</td>\n",
       "      <td>read</td>\n",
       "      <td>32.0</td>\n",
       "      <td>2.0</td>\n",
       "    </tr>\n",
       "  </tbody>\n",
       "</table>\n",
       "</div>"
      ],
      "text/plain": [
       "   eval_id condition   age  sex\n",
       "0        1  listened  29.0  2.0\n",
       "1        2  listened  27.0  2.0\n",
       "2        3  listened  27.0  2.0\n",
       "3        4      read  40.0  2.0\n",
       "4        5      read  32.0  2.0"
      ]
     },
     "execution_count": 129,
     "metadata": {},
     "output_type": "execute_result"
    }
   ],
   "source": [
    "import pandas as pd # used for data analysis and manipulation\n",
    "from scipy import stats # used for statistical tests\n",
    "import numpy as np # used for numerical and mathematical operations\n",
    "import matplotlib.pyplot as plt # used for plotting information\n",
    "import seaborn as sns # used for visualization\n",
    "\n",
    "# Load the data\n",
    "df_evaluators = pd.read_csv('evaluators.csv')\n",
    "df_evaluators.head()"
   ]
  },
  {
   "cell_type": "code",
   "execution_count": 126,
   "metadata": {
    "id": "eDw0XnX3BRhe"
   },
   "outputs": [
    {
     "data": {
      "text/html": [
       "<div>\n",
       "<style scoped>\n",
       "    .dataframe tbody tr th:only-of-type {\n",
       "        vertical-align: middle;\n",
       "    }\n",
       "\n",
       "    .dataframe tbody tr th {\n",
       "        vertical-align: top;\n",
       "    }\n",
       "\n",
       "    .dataframe thead th {\n",
       "        text-align: right;\n",
       "    }\n",
       "</style>\n",
       "<table border=\"1\" class=\"dataframe\">\n",
       "  <thead>\n",
       "    <tr style=\"text-align: right;\">\n",
       "      <th></th>\n",
       "      <th>eval_id</th>\n",
       "      <th>age</th>\n",
       "      <th>sex</th>\n",
       "    </tr>\n",
       "  </thead>\n",
       "  <tbody>\n",
       "    <tr>\n",
       "      <th>count</th>\n",
       "      <td>39.000000</td>\n",
       "      <td>34.000000</td>\n",
       "      <td>34.000000</td>\n",
       "    </tr>\n",
       "    <tr>\n",
       "      <th>mean</th>\n",
       "      <td>20.000000</td>\n",
       "      <td>30.852941</td>\n",
       "      <td>1.882353</td>\n",
       "    </tr>\n",
       "    <tr>\n",
       "      <th>std</th>\n",
       "      <td>11.401754</td>\n",
       "      <td>6.238358</td>\n",
       "      <td>0.327035</td>\n",
       "    </tr>\n",
       "    <tr>\n",
       "      <th>min</th>\n",
       "      <td>1.000000</td>\n",
       "      <td>23.000000</td>\n",
       "      <td>1.000000</td>\n",
       "    </tr>\n",
       "    <tr>\n",
       "      <th>25%</th>\n",
       "      <td>10.500000</td>\n",
       "      <td>27.000000</td>\n",
       "      <td>2.000000</td>\n",
       "    </tr>\n",
       "    <tr>\n",
       "      <th>50%</th>\n",
       "      <td>20.000000</td>\n",
       "      <td>29.000000</td>\n",
       "      <td>2.000000</td>\n",
       "    </tr>\n",
       "    <tr>\n",
       "      <th>75%</th>\n",
       "      <td>29.500000</td>\n",
       "      <td>32.750000</td>\n",
       "      <td>2.000000</td>\n",
       "    </tr>\n",
       "    <tr>\n",
       "      <th>max</th>\n",
       "      <td>39.000000</td>\n",
       "      <td>48.000000</td>\n",
       "      <td>2.000000</td>\n",
       "    </tr>\n",
       "  </tbody>\n",
       "</table>\n",
       "</div>"
      ],
      "text/plain": [
       "         eval_id        age        sex\n",
       "count  39.000000  34.000000  34.000000\n",
       "mean   20.000000  30.852941   1.882353\n",
       "std    11.401754   6.238358   0.327035\n",
       "min     1.000000  23.000000   1.000000\n",
       "25%    10.500000  27.000000   2.000000\n",
       "50%    20.000000  29.000000   2.000000\n",
       "75%    29.500000  32.750000   2.000000\n",
       "max    39.000000  48.000000   2.000000"
      ]
     },
     "execution_count": 126,
     "metadata": {},
     "output_type": "execute_result"
    }
   ],
   "source": [
    "# Q4a (code):\n",
    "# Calculate mean and standard deviation for age\n",
    "# Using .describe, we get an overview of our data which includes both the mean and the standard deviation for our columns\n",
    "df_evaluators.describe()"
   ]
  },
  {
   "cell_type": "markdown",
   "metadata": {},
   "source": [
    "<font color=purple> The **mean** for age is 30.852941 \n",
    "\n",
    "<font color=purple> The **standard deviation** for age is 6.238358\t"
   ]
  },
  {
   "cell_type": "code",
   "execution_count": 296,
   "metadata": {
    "id": "I0tU57R5ufRI"
   },
   "outputs": [
    {
     "name": "stdout",
     "output_type": "stream",
     "text": [
      "Male evaluators: 4\n",
      "Female evaluators: 30\n"
     ]
    }
   ],
   "source": [
    "# Q4b (code)\n",
    "# Count male and female evaluators using the function value_counts for the column 'sex'\n",
    "# https://pandas.pydata.org/pandas-docs/stable/reference/api/pandas.Series.value_counts.html\n",
    "# In the 'sex' column: 1 represents males and 2 represents females\n",
    "sex_counts = df_evaluators['sex'].value_counts()\n",
    "\n",
    "# Display the information in a more clear manner\n",
    "print ('Male evaluators:', sex_counts[1])\n",
    "print('Female evaluators:', sex_counts[2])"
   ]
  },
  {
   "cell_type": "markdown",
   "metadata": {},
   "source": [
    "<font color=purple> By looking at the total of both male and female evaluators together, we have the same count of 34 as displayed in the earlier 'df_evaluators.describe()' result for 'sex'. This counting thus looks to be correct! "
   ]
  },
  {
   "cell_type": "markdown",
   "metadata": {
    "id": "KK-MdZfdpDI3"
   },
   "source": [
    "### Step 2: Calculate overall intellect ratings from evaluators and prepare a combined dataset for analysis\n",
    "\n",
    "We are now going to calculate an overall intellect rating given by each evaluator. To break that down a bit, we are going to calculate how intellectual the evaluators (the raters) thought candidates were overall, depending on whether the evaluators read or listened to the candidates' resume pitches. This is calculated by averaging the ratings of competent, thoughtful and intelligent for each evaluator held within ratings.csv.\n",
    "\n",
    "Note: We are not looking at ratings to individual candidates; we are looking at overall ratings for each evaluator. This is a bit confusing but makes sense if you stop to think about it a little. You can think about it in terms of \"do raters rate differently depending on whether they read or listen to a resume pitch\".\n",
    "We will then combine the overall intellect rating with the overall impression ratings and overall hire ratings for each evaluator, all ready found in ratings.csv. In the end we will have a new new dataframe named \"ratings2\" - which has the below structure:\n",
    "\n",
    "**eval_id** shows the evaluator ID. Each evaluator has a different ID. So all the 1's are the same evaluator.\n",
    "\n",
    "**Category** shows the scale that they were rating on - intellect, hire, impression\n",
    "\n",
    "**Rating** shows the overall rating given by that evaluator on a given scale.\n",
    "\n",
    "**condition** shows whether that evaluator listened to (e.g., evaluators 1, 2 and 3), or read (e.g., evaluator 4) the resume.\n",
    "\n",
    "\n",
    "**Instructions:**\n",
    "\n",
    "1. Load the ratings.csv file.\n",
    "\n",
    "2. Filter and calculate the mean intellect rating for each evaluator.\n",
    "\n",
    "3. Combine this with overall impression and hire ratings to create a new DataFrame named \"rating2\".\n",
    "\n",
    "4. Merge this DataFrame with the evaluator demographics.\n",
    "\n",
    "**Question 5**:\n",
    "\n",
    "Print the head of \"rating2\".\n"
   ]
  },
  {
   "cell_type": "code",
   "execution_count": 297,
   "metadata": {
    "id": "l85NzSC-pj57"
   },
   "outputs": [
    {
     "data": {
      "text/html": [
       "<div>\n",
       "<style scoped>\n",
       "    .dataframe tbody tr th:only-of-type {\n",
       "        vertical-align: middle;\n",
       "    }\n",
       "\n",
       "    .dataframe tbody tr th {\n",
       "        vertical-align: top;\n",
       "    }\n",
       "\n",
       "    .dataframe thead th {\n",
       "        text-align: right;\n",
       "    }\n",
       "</style>\n",
       "<table border=\"1\" class=\"dataframe\">\n",
       "  <thead>\n",
       "    <tr style=\"text-align: right;\">\n",
       "      <th></th>\n",
       "      <th>eval_id</th>\n",
       "      <th>Category</th>\n",
       "      <th>Rating</th>\n",
       "    </tr>\n",
       "  </thead>\n",
       "  <tbody>\n",
       "    <tr>\n",
       "      <th>0</th>\n",
       "      <td>1</td>\n",
       "      <td>competent</td>\n",
       "      <td>6.0</td>\n",
       "    </tr>\n",
       "    <tr>\n",
       "      <th>1</th>\n",
       "      <td>1</td>\n",
       "      <td>thoughtful</td>\n",
       "      <td>6.0</td>\n",
       "    </tr>\n",
       "    <tr>\n",
       "      <th>2</th>\n",
       "      <td>1</td>\n",
       "      <td>intelligent</td>\n",
       "      <td>6.0</td>\n",
       "    </tr>\n",
       "    <tr>\n",
       "      <th>3</th>\n",
       "      <td>1</td>\n",
       "      <td>impression</td>\n",
       "      <td>7.0</td>\n",
       "    </tr>\n",
       "    <tr>\n",
       "      <th>4</th>\n",
       "      <td>1</td>\n",
       "      <td>hire</td>\n",
       "      <td>6.0</td>\n",
       "    </tr>\n",
       "  </tbody>\n",
       "</table>\n",
       "</div>"
      ],
      "text/plain": [
       "   eval_id     Category  Rating\n",
       "0        1    competent     6.0\n",
       "1        1   thoughtful     6.0\n",
       "2        1  intelligent     6.0\n",
       "3        1   impression     7.0\n",
       "4        1         hire     6.0"
      ]
     },
     "execution_count": 297,
     "metadata": {},
     "output_type": "execute_result"
    }
   ],
   "source": [
    "# Load ratings data\n",
    "df_ratings = pd.read_csv('ratings.csv')\n",
    "df_ratings.head()"
   ]
  },
  {
   "cell_type": "code",
   "execution_count": 298,
   "metadata": {
    "id": "5dxtVUSMBZwf"
   },
   "outputs": [
    {
     "data": {
      "text/html": [
       "<div>\n",
       "<style scoped>\n",
       "    .dataframe tbody tr th:only-of-type {\n",
       "        vertical-align: middle;\n",
       "    }\n",
       "\n",
       "    .dataframe tbody tr th {\n",
       "        vertical-align: top;\n",
       "    }\n",
       "\n",
       "    .dataframe thead th {\n",
       "        text-align: right;\n",
       "    }\n",
       "</style>\n",
       "<table border=\"1\" class=\"dataframe\">\n",
       "  <thead>\n",
       "    <tr style=\"text-align: right;\">\n",
       "      <th></th>\n",
       "      <th>eval_id</th>\n",
       "      <th>Category</th>\n",
       "      <th>Rating</th>\n",
       "      <th>condition</th>\n",
       "    </tr>\n",
       "  </thead>\n",
       "  <tbody>\n",
       "    <tr>\n",
       "      <th>2</th>\n",
       "      <td>1</td>\n",
       "      <td>hire</td>\n",
       "      <td>6.000000</td>\n",
       "      <td>listened</td>\n",
       "    </tr>\n",
       "    <tr>\n",
       "      <th>1</th>\n",
       "      <td>1</td>\n",
       "      <td>impression</td>\n",
       "      <td>7.000000</td>\n",
       "      <td>listened</td>\n",
       "    </tr>\n",
       "    <tr>\n",
       "      <th>0</th>\n",
       "      <td>1</td>\n",
       "      <td>intellect</td>\n",
       "      <td>6.000000</td>\n",
       "      <td>listened</td>\n",
       "    </tr>\n",
       "    <tr>\n",
       "      <th>5</th>\n",
       "      <td>2</td>\n",
       "      <td>hire</td>\n",
       "      <td>4.000000</td>\n",
       "      <td>listened</td>\n",
       "    </tr>\n",
       "    <tr>\n",
       "      <th>4</th>\n",
       "      <td>2</td>\n",
       "      <td>impression</td>\n",
       "      <td>4.666667</td>\n",
       "      <td>listened</td>\n",
       "    </tr>\n",
       "  </tbody>\n",
       "</table>\n",
       "</div>"
      ],
      "text/plain": [
       "   eval_id    Category    Rating condition\n",
       "2        1        hire  6.000000  listened\n",
       "1        1  impression  7.000000  listened\n",
       "0        1   intellect  6.000000  listened\n",
       "5        2        hire  4.000000  listened\n",
       "4        2  impression  4.666667  listened"
      ]
     },
     "execution_count": 298,
     "metadata": {},
     "output_type": "execute_result"
    }
   ],
   "source": [
    "# Q5 (code):\n",
    "# Filter the ratings DataFrame to include only 'thoughtful', 'competent', and 'intelligent' categories\n",
    "df_ratings_filtered = df_ratings[df_ratings['Category'].isin(['thoughtful', 'competent', 'intelligent'])]\n",
    "\n",
    "# Calculate the mean intellect rating for each evaluator\n",
    "# Group by 'eval_id' and calculate mean, then reset the index to convert groupby object back to DataFrame\n",
    "mean_intellect_rating = df_ratings_filtered.groupby('eval_id')['Rating'].mean().reset_index()\n",
    "\n",
    "# Add a 'Category' column with the value 'intellect' for these rows\n",
    "mean_intellect_rating['Category'] = 'intellect'\n",
    "\n",
    "# Create a DataFrame for 'impression' and 'hire' ratings\n",
    "df_ratings_other = df_ratings[df_ratings['Category'].isin(['impression', 'hire'])]\n",
    "\n",
    "# Combine the DataFrames to create 'ratings2'\n",
    "# Concatenate the 'mean_intellect_rating' DataFrame with the 'df_ratings_other' DataFrame\n",
    "ratings2 = pd.concat([mean_intellect_rating, df_ratings_other])\n",
    "\n",
    "# Join 'ratings2' with the 'df_evaluators' DataFrame to add the 'condition' column\n",
    "ratings2 = pd.merge(ratings2, df_evaluators[['eval_id', 'condition']], on='eval_id')\n",
    "\n",
    "# Select only the necessary columns as per the structure required\n",
    "ratings2 = ratings2[['eval_id', 'Category', 'Rating', 'condition']]\n",
    "\n",
    "# Arrange by 'eval_id' and 'Category'\n",
    "ratings2 = ratings2.sort_values(by = ['eval_id', 'Category'])\n",
    "\n",
    "# Display the first few rows of the final 'ratings2' DataFrame to verify\n",
    "ratings2.head()"
   ]
  },
  {
   "cell_type": "markdown",
   "metadata": {},
   "source": [
    "<font color=purple> I have used https://pandas.pydata.org/docs/user_guide/merging.html to find the correct code to combine and compare data frames. "
   ]
  },
  {
   "cell_type": "markdown",
   "metadata": {
    "id": "fOmtKCzEpoOa"
   },
   "source": [
    "### Step 3: Perform descriptive and inferential statistical analyses, including testing assumptions and conducting independent t-tests.\n",
    "\n",
    "We are going to run the t-tests for Intellect, Hire and Impression; each time comparing evaluators overall ratings for the listened group versus overall ratings for the read group to see if there was a significant difference between the two conditions: i.e., did the evaluators who listened to pitches give a significant higher or lower rating than evaluators that read pitches?\n",
    "\n",
    "**Question 6**:\n",
    "\n",
    "a. In terms of hypotheses, how can we phrase the hypothesis?\n",
    "\n",
    "b. Which t-test should we choose, one-tail or two-tail? And explian why.\n",
    "\n",
    "c. What are the independent variable and the dependent variable here?\n"
   ]
  },
  {
   "cell_type": "markdown",
   "metadata": {},
   "source": [
    "<font color=purple>  <ins> Q6a:</ins>\n",
    "\n",
    "<font color=purple>**Null Hypothesis:** There is **no** significant difference between the overall ratings of the *listened* group and the overall ratings of the *read* group for intellect, hire, and impression.  \n",
    " \n",
    "<font color=purple>**Alternative Hypothesis:** There is **a** significant difference between the overall ratings of the *listened* group and the overall ratings of the *read* group for intellect, hire, and impression. "
   ]
  },
  {
   "cell_type": "markdown",
   "metadata": {
    "id": "EkoM_0js3fyS"
   },
   "source": [
    "<font color=purple> <ins>Q6b: </ins>\n",
    "\n",
    "<font color=purple> As our hypothesis is non-directional (we want to see if 'there is a significant difference', but are not interested in the direction of this difference), our t-test needs to be **two-tailed**. By doing a two-tail test, we can check both directions (either higher or lower scores for the overall ratings of the groups)"
   ]
  },
  {
   "cell_type": "markdown",
   "metadata": {
    "id": "073zOlIsI5ws"
   },
   "source": [
    "<font color=purple> <ins> Q6c:</ins>\n",
    "\n",
    "<font color=purple> **The independent variables** consist of the variables that are used to categorize our independent groups. In this study, this consists of the evaluators who listened to the pitches and the evaluators who read the pitches. \n",
    "\n",
    "<font color=purple> **The dependent variables** are the variables that are expected to be influenced by the independent variable. In this case, these are the ratings based on the categories intellect, hire, and impression. "
   ]
  },
  {
   "cell_type": "markdown",
   "metadata": {
    "id": "4g-SpuDX23iL"
   },
   "source": [
    "\n",
    "To clarify, we are going to run three between-subjects t-tests in total; one for intellect ratings; one for hire ratings; one for impression ratings.\n",
    "\n",
    "**Instructions:**\n",
    "\n",
    "1. Descriptive analysis of the ratings.\n",
    "\n",
    "2. Test for normal distribution (Shapiro-Wilk test) and homogeneity of variances (Levene's test) for the intellect, impression, and hire ratings.\n",
    "\n",
    "3. Conduct independent t-tests comparing intellect, impression, and hire ratings between conditions (listened vs. read).\n",
    "\n",
    "Hints: three T-tests need to be performed.\n",
    "\n",
    "**Question 7**:\n",
    "\n",
    "a: Print the test results.\n",
    "\n",
    "b: Interpret the results of the above descriptive statistics, Shapiro-Wilk test, Levene's test, and independent t-tests. Explian why we use these tests and how we made our decisions based on the test result."
   ]
  },
  {
   "cell_type": "code",
   "execution_count": 299,
   "metadata": {
    "id": "QD3ZZRrAq4Gc"
   },
   "outputs": [
    {
     "data": {
      "text/html": [
       "<div>\n",
       "<style scoped>\n",
       "    .dataframe tbody tr th:only-of-type {\n",
       "        vertical-align: middle;\n",
       "    }\n",
       "\n",
       "    .dataframe tbody tr th {\n",
       "        vertical-align: top;\n",
       "    }\n",
       "\n",
       "    .dataframe thead th {\n",
       "        text-align: right;\n",
       "    }\n",
       "</style>\n",
       "<table border=\"1\" class=\"dataframe\">\n",
       "  <thead>\n",
       "    <tr style=\"text-align: right;\">\n",
       "      <th></th>\n",
       "      <th>count</th>\n",
       "      <th>mean</th>\n",
       "      <th>std</th>\n",
       "      <th>min</th>\n",
       "      <th>25%</th>\n",
       "      <th>50%</th>\n",
       "      <th>75%</th>\n",
       "      <th>max</th>\n",
       "    </tr>\n",
       "    <tr>\n",
       "      <th>Category</th>\n",
       "      <th></th>\n",
       "      <th></th>\n",
       "      <th></th>\n",
       "      <th></th>\n",
       "      <th></th>\n",
       "      <th></th>\n",
       "      <th></th>\n",
       "      <th></th>\n",
       "    </tr>\n",
       "  </thead>\n",
       "  <tbody>\n",
       "    <tr>\n",
       "      <th>hire</th>\n",
       "      <td>39.0</td>\n",
       "      <td>3.871795</td>\n",
       "      <td>2.330343</td>\n",
       "      <td>0.000000</td>\n",
       "      <td>2.000000</td>\n",
       "      <td>4.000000</td>\n",
       "      <td>5.0</td>\n",
       "      <td>8.000000</td>\n",
       "    </tr>\n",
       "    <tr>\n",
       "      <th>impression</th>\n",
       "      <td>39.0</td>\n",
       "      <td>5.094017</td>\n",
       "      <td>2.254234</td>\n",
       "      <td>0.333333</td>\n",
       "      <td>3.666667</td>\n",
       "      <td>5.333333</td>\n",
       "      <td>7.0</td>\n",
       "      <td>8.666667</td>\n",
       "    </tr>\n",
       "    <tr>\n",
       "      <th>intellect</th>\n",
       "      <td>39.0</td>\n",
       "      <td>4.717949</td>\n",
       "      <td>2.000787</td>\n",
       "      <td>0.666667</td>\n",
       "      <td>3.500000</td>\n",
       "      <td>5.000000</td>\n",
       "      <td>6.0</td>\n",
       "      <td>9.000000</td>\n",
       "    </tr>\n",
       "  </tbody>\n",
       "</table>\n",
       "</div>"
      ],
      "text/plain": [
       "            count      mean       std       min       25%       50%  75%  \\\n",
       "Category                                                                   \n",
       "hire         39.0  3.871795  2.330343  0.000000  2.000000  4.000000  5.0   \n",
       "impression   39.0  5.094017  2.254234  0.333333  3.666667  5.333333  7.0   \n",
       "intellect    39.0  4.717949  2.000787  0.666667  3.500000  5.000000  6.0   \n",
       "\n",
       "                 max  \n",
       "Category              \n",
       "hire        8.000000  \n",
       "impression  8.666667  \n",
       "intellect   9.000000  "
      ]
     },
     "execution_count": 299,
     "metadata": {},
     "output_type": "execute_result"
    }
   ],
   "source": [
    "##Q7a (code):\n",
    "from scipy.stats import shapiro, levene, ttest_ind # used for statistical tests: normal distribution (Shapiro-Wilk test), homogeneity of variances (Levene's test), and T-tests\n",
    "\n",
    "# Descriptive analysis of the ratings\n",
    "ratings_desc = ratings2.groupby('Category')['Rating'].describe()\n",
    "\n",
    "ratings_desc"
   ]
  },
  {
   "cell_type": "markdown",
   "metadata": {},
   "source": [
    "<font color=purple> <ins> Q7b:</ins>\n",
    "\n",
    "<font color=purple> We can use these descriptive statistics to get a quick overview of the important statistical information, such as the mean and standard deviation. The 25%, 50%, and 75% categories will also give us an initial idea of the general distribution of the data in our collection. The 50% category is also known as the median. Furthermore, the minimum and maximum are also given.\n",
    " \n",
    "<font color=purple> **The 'hire' category** ratings are fairly distributed. We can see this from its mean of 3.87 and standard deviation of 2.33. Furthermore, the majority of ratings fall between 2.00 and 5.00.\n",
    "    \n",
    "<font color=purple> **The 'impression' category** ratings have a higher mean of 5.09 and a standard deviation of 2.25. The ratings are more closely distributed between 3.67 and 7.00.\n",
    "\n",
    "<font color=purple> **The 'intellect' category** ratings show a standard deviation of 2.00 and a mean of 4.72. The majority of ratings fall between 3.50 and 6.00."
   ]
  },
  {
   "cell_type": "code",
   "execution_count": 300,
   "metadata": {},
   "outputs": [
    {
     "data": {
      "text/plain": [
       "('Hire:',\n",
       " 0.9427909851074219,\n",
       " 0.04710369557142258,\n",
       " 'Impression:',\n",
       " 0.9595587849617004,\n",
       " 0.17238670587539673,\n",
       " 'Intellect:',\n",
       " 0.9747602939605713,\n",
       " 0.5182666182518005)"
      ]
     },
     "execution_count": 300,
     "metadata": {},
     "output_type": "execute_result"
    }
   ],
   "source": [
    "##Q7a (code):\n",
    "\n",
    "# Test for normal distribution (Shapiro-Wilk test)\n",
    "\n",
    "# Create three separate DataFrames, each containing rows specific to one of the categories: 'hire', 'intellect', and 'impression'. \n",
    "ratings_hire = ratings2[ratings2['Category'] == 'hire']\n",
    "ratings_impression = ratings2[ratings2['Category'] == 'impression']\n",
    "ratings_intellect = ratings2[ratings2['Category'] == 'intellect']\n",
    "\n",
    "# Shapiro-Wilk test for 'hire' using stats.shapiro (returning the shapiro score and the p-value)\n",
    "score_shapiro_hire, p_val_shapiro_hire = stats.shapiro(ratings_hire['Rating'])\n",
    "\n",
    "# Shapiro-Wilk test for 'impression' using stats.shapiro (returning the shapiro score and the p-value)\n",
    "score_shapiro_impression, p_val_shapiro_impression = stats.shapiro(ratings_impression['Rating'])\n",
    "\n",
    "# Shapiro-Wilk test for 'intellect' using stats.shapiro (returning the shapiro score and the p-value)\n",
    "score_shapiro_intellect, p_val_shapiro_intellect = stats.shapiro(ratings_intellect['Rating'])\n",
    "\n",
    "# Store the separate scores in the variable 'shapiro_results'\n",
    "shapiro_results = 'Hire:', score_shapiro_hire, p_val_shapiro_hire, 'Impression:',score_shapiro_impression, p_val_shapiro_impression,'Intellect:', score_shapiro_intellect, p_val_shapiro_intellect\n",
    "\n",
    "shapiro_results"
   ]
  },
  {
   "cell_type": "markdown",
   "metadata": {},
   "source": [
    "<font color=purple> <ins> Q7b:</ins>\n",
    "    \n",
    "<font color=purple>We do these tests to see how our data are distributed. These initial tests will influence what kind of further testing we will need to do to ultimately analyze our data and conclude if our hypothesis can be verified or rejected.\n",
    "\n",
    "<font color=purple>The Shapiro-Wilk test returns the Shapiro-Wilk score and the p-value.\n",
    "\n",
    "<font color=purple>The results from the Shapiro-Wilk test show if our data are normally distributed through this p-<font color=purple>value it returns. If the p-value is less than 0.05, we can say that the data tested are not normally distributed. \n",
    "\n",
    "<font color=purple>For the Shapiro-Wilk tests performed above we can conclude the following:\n",
    "    \n",
    "<font color=purple> **Hire:** the score 0.04710369557142258 is lower than 0.05. Therefore, we can conclude that 'hire' ratings are not normally distributed. \n",
    "    \n",
    "<font color=purple>**Impression:** the score 0.17238670587539673 is larger than 0.05. Therefore, we can conclude that the 'impression' ratings are normally distributed.\n",
    "    \n",
    "<font color=purple>**Intellect:** the score 0.5182666182518005 is much larger than 0.05. Therefore, we can conclude that the 'impression' ratings are normally distributed."
   ]
  },
  {
   "cell_type": "code",
   "execution_count": 301,
   "metadata": {},
   "outputs": [],
   "source": [
    "##Q7a (code):\n",
    "# Test for homogeneity of variances (Levene's test)\n",
    "\n",
    "# Extract each category and select the evaluators' overall ratings for both the listened group versus overall ratings for the read group \n",
    "# This will make the data suitable for the Levene's test\n",
    "# Using & we will combine both conditions we are filtering on (extracting the 'Rating' column for evaluators in the correct category for both readers and listeners)\n",
    "\n",
    "# 'hire'\n",
    "ratings_hire_read = ratings2[(ratings2['Category'] == 'hire') & (ratings2['condition'] == 'read')]['Rating']\n",
    "ratings_hire_listen = ratings2[(ratings2['Category'] == 'hire') & (ratings2['condition'] == 'listened')]['Rating']\n",
    "\n",
    "# 'impression'\n",
    "ratings_impression_read = ratings2[(ratings2['Category'] == 'impression') & (ratings2['condition'] == 'read')]['Rating']\n",
    "ratings_impression_listen = ratings2[(ratings2['Category'] == 'impression') & (ratings2['condition'] == 'listened')]['Rating']\n",
    "\n",
    "# 'intellect'\n",
    "ratings_intellect_read = ratings2[(ratings2['Category'] == 'intellect') & (ratings2['condition'] == 'read')]['Rating']\n",
    "ratings_intellect_listen = ratings2[(ratings2['Category'] == 'intellect') & (ratings2['condition'] == 'listened')]['Rating']"
   ]
  },
  {
   "cell_type": "code",
   "execution_count": 303,
   "metadata": {},
   "outputs": [
    {
     "data": {
      "text/plain": [
       "('Hire:',\n",
       " 0.10663746145199855,\n",
       " 0.7458453933447955,\n",
       " 'Impression:',\n",
       " 0.39045326236607025,\n",
       " 0.5358960150374064,\n",
       " 'Intellect:',\n",
       " 0.8980185752566812,\n",
       " 0.34946205893248505)"
      ]
     },
     "execution_count": 303,
     "metadata": {},
     "output_type": "execute_result"
    }
   ],
   "source": [
    "# Levene's test 'hire' using stats.levene (returning Levene's score and the p-value)\n",
    "score_levene_hire, p_val_levene_hire = stats.levene(ratings_hire_read, ratings_hire_listen)\n",
    "\n",
    "# Levene's test 'impression' using stats.levene (returning Levene's score and the p-value)\n",
    "score_levene_impression, p_val_levene_impression = stats.levene(ratings_impression_read, ratings_impression_listen)\n",
    "\n",
    "# Levene's test 'intellect' using stats.levene (returning Levene's score and the p-value)\n",
    "score_levene_intellect, p_val_levene_intellect = stats.levene(ratings_intellect_read, ratings_intellect_listen)\n",
    "\n",
    "# Store the separate scores in the variable 'levene_results'\n",
    "levene_results = 'Hire:', score_levene_hire, p_val_levene_hire, 'Impression:', score_levene_impression, p_val_levene_impression,'Intellect:', score_levene_intellect, p_val_levene_intellect\n",
    "\n",
    "levene_results"
   ]
  },
  {
   "cell_type": "markdown",
   "metadata": {},
   "source": [
    "<font color=purple> <ins> Q7b:</ins>\n",
    "\n",
    "<font color=purple>Levene's test returns the Levene Statistic and the p-value \n",
    "\n",
    "<font color=purple>Levene's test is used to assess the homogeneity of variances across different groups. If the p-value from Levene's test is below 0.05, it suggests that the observed differences in our data are probably not random. You could then conclude that there is a difference between the groups.\n",
    "\n",
    "<font color=purple> **Hire:** the score 0.7458453933447955 is much higher than 0.05. This suggests that there is no significant difference in variances between the two groups performing the 'hire' ratings. \n",
    "    \n",
    "<font color=purple>**Impression:** the score 0.5358960150374064 is larger than 0.05. This suggests that there is no significant difference in variances between the two groups performing the 'impression' ratings. \n",
    "    \n",
    "<font color=purple>**Intellect:** the score 0.34946205893248505 is again larger than 0.05. This again suggests that there is no significant difference in variances between the two groups performing the 'intellect' ratings. \n",
    "\n",
    "\n",
    "<font color=purple>There is thus no significant evidence to suggest that the variances are different between the groups in any of the three categories. "
   ]
  },
  {
   "cell_type": "code",
   "execution_count": 304,
   "metadata": {},
   "outputs": [
    {
     "data": {
      "text/plain": [
       "('Hire:',\n",
       " 275.5,\n",
       " 0.014413410635040338,\n",
       " 'Impression:',\n",
       " 2.850766179025179,\n",
       " 0.007091060616710596,\n",
       " 'Intellect:',\n",
       " 3.5259329220482414,\n",
       " 0.0011444414996286821)"
      ]
     },
     "execution_count": 304,
     "metadata": {},
     "output_type": "execute_result"
    }
   ],
   "source": [
    "##Q7a (code):\n",
    "from scipy.stats import mannwhitneyu # used for performing the non-parametric Mann-Whitney U test\n",
    "\n",
    "# Independent t-tests\n",
    "\n",
    "# 'Hire' is not normally distributed, we therefore have to use a non-parametric test. \n",
    "# In this case, we use the Mann-Whitney U Test\n",
    "\n",
    "# Mann-Whitney U test for 'hire' (returning the U test score and the p-value)\n",
    "u_score_hire, p_val_hire = mannwhitneyu(ratings_hire_listen, ratings_hire_read, alternative='two-sided')\n",
    "\n",
    "# T-test for 'impression' (returning the t-test score and the p-value)\n",
    "ttest_score_impression, p_val_impression = ttest_ind(ratings_impression_listen, ratings_impression_read)\n",
    "\n",
    "# T-test for 'intellect' (returning the t-test score and the p-value)    \n",
    "ttest_score_intellect, p_val_intellect = ttest_ind(ratings_intellect_listen, ratings_intellect_read)\n",
    "\n",
    "# Store the separate scores in the variable 'ttest_results'\n",
    "ttest_results = 'Hire:', u_score_hire, p_val_hire , 'Impression:', ttest_score_impression, p_val_impression, 'Intellect:', ttest_score_intellect, p_val_intellect\n",
    "\n",
    "ttest_results"
   ]
  },
  {
   "cell_type": "markdown",
   "metadata": {
    "id": "aifm_T8UQwYm"
   },
   "source": [
    "<font color=purple> <ins> Q7b:</ins>\n",
    "\n",
    "<font color=purple> The t-test returns the t-statistic and the p-value, and the Mann-Whitney U test returns the u-statistic and the p-value.\n",
    "    \n",
    "<font color=purple> These tests performed in the cell above (The Independent t-test and Mann-Whitney U test) are both statistical tests that we can use to compare different groups and analyze whether there is a significant difference between them. We move on to this step to ultimately test the hypothesis we set out earlier.\n",
    "    \n",
    "<font color=purple> The t-test is used when the data is assumed to be normally distributed and aims to compare two sample means from unrelated groups. The Mann-Whitney U test is a non-parametric test that does not assume a normal distribution of the data.\n",
    "\n",
    "<font color=purple> **Hire:** We have used the Mann-Whitney U test for 'hire'. This returned a p-value of 0.014413410635040338 which is lower than 0.05. Therefore, we can assume that there is a difference between the two groups in the 'hire' category. \n",
    "    \n",
    "<font color=purple>**Impression:** We have used the independent t-test for 'impression'. This returned a p-value of 0.007091060616710596 which is lower than 0.05. Therefore, we can assume that there is a difference between the two groups in the 'impression' category. \n",
    "   \n",
    "    \n",
    "<font color=purple>**Intellect:** We have used the independent t-test for 'impression'. This returned a p-value of 0.0011444414996286821 which is lower than 0.05. Therefore, we can assume that there is a difference between the two groups in the 'impression' category. "
   ]
  },
  {
   "cell_type": "markdown",
   "metadata": {},
   "source": [
    "\n",
    "### Concluding Remarks\n",
    "<font color=purple> To summarize: \n",
    "    \n",
    "<font color=purple> ***Normal distribution/Shapiro-Wilk test*** \n",
    "   \n",
    "  <font color=purple> - **Hire**: not normally distributed\n",
    "      \n",
    "  <font color=purple> - **Impression**: normally distributed\n",
    "      \n",
    "  <font color=purple> - **Intellect**: normally distributed \n",
    "    \n",
    "<font color=purple>***Homogeneity of variances/Levene's test*** \n",
    "   \n",
    "  <font color=purple>- **Hire**: not significant \n",
    "        \n",
    "  <font color=purple>  - **Impression**: not significant \n",
    "      \n",
    "  <font color=purple>  - **Intellect**: not significant \n",
    "\n",
    "<font color=purple>***T-test/U Test (Mann-Whitney)***\n",
    "    \n",
    "   <font color=purple>- **Hire**: difference is statistically significant \n",
    "        \n",
    "   <font color=purple>- **Impression**: difference is statistically significant \n",
    "        \n",
    "   <font color=purple> - **Intellect**: difference is statistically significant \n",
    "    \n",
    "<font color=purple>For all three categories, the results suggest significant differences between the groups based on the tests. This also means that for all three categories, we can reject the Null Hypothesis (\"there is no significant difference between the overall ratings of the *listened* group and the overall ratings of the *read* group for intellect, hire, and impression\"), as the results of the test suggest there does seem to be a significant difference between the overall ratings of the *listened* group and the overall ratings of the *read* group for intellect, hire, and impression. "
   ]
  }
 ],
 "metadata": {
  "colab": {
   "provenance": []
  },
  "kernelspec": {
   "display_name": "Python 3 (ipykernel)",
   "language": "python",
   "name": "python3"
  },
  "language_info": {
   "codemirror_mode": {
    "name": "ipython",
    "version": 3
   },
   "file_extension": ".py",
   "mimetype": "text/x-python",
   "name": "python",
   "nbconvert_exporter": "python",
   "pygments_lexer": "ipython3",
   "version": "3.11.7"
  }
 },
 "nbformat": 4,
 "nbformat_minor": 1
}
